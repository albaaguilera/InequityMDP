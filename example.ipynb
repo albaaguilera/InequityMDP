{
 "cells": [
  {
   "cell_type": "markdown",
   "metadata": {},
   "source": [
    "## Small Example: gymnasium\n",
    "\n",
    "Define action and state spaces. State spaces will be a dictionary of discrete places. We'll start with a discrete grid and then move to an openstreet map. \n",
    "\n"
   ]
  },
  {
   "cell_type": "code",
   "execution_count": null,
   "metadata": {},
   "outputs": [
    {
     "name": "stdout",
     "output_type": "stream",
     "text": [
      "Current state: sick, Profile: {'health_state': 2, 'housing_state': 'ETHOS_0', 'administrative_state': 'registered'}, Context: {'shelters_available': 5, 'government_healthcare_budget': 100000, 'government_social_service_budget': 50000, 'grid_position': (0, 0)}\n"
     ]
    }
   ],
   "source": [
    "import gym\n",
    "from gym import spaces\n",
    "import numpy as np\n",
    "\n",
    "class CitizenHealthMDP(gym.Env):\n",
    "    def __init__(self, agent_profile=None, environment_context=None):\n",
    "        super(CitizenHealthMDP, self).__init__()\n",
    "\n",
    "        self.states = {\"sick\": 0, \"healthier\": 1, \"sicker\": 2}\n",
    "        self.actions = {\"receive_medical_attention\": 0, \"keep_forward\": 1}\n",
    "        self.action_space = spaces.Discrete(len(self.actions))\n",
    "        self.observation_space = spaces.Discrete(len(self.states))\n",
    "\n",
    "        self.agent_profile = agent_profile if agent_profile else {\n",
    "            \"health_state\": 0,  # Scale from 0 (very sick) to 4 (very healthy)\n",
    "            \"housing_state\": \"ETHOS_0\",  # ETHOS 0, 1, 2\n",
    "            \"administrative_state\": \"registered\"  # \"registered\" or \"non-registered\"\n",
    "        }\n",
    "        \n",
    "        # Transition probabilities and rewards (flexible for expansion)\n",
    "        self.transition_probs = {\n",
    "            (self.states[\"sick\"], self.actions[\"receive_medical_attention\"]): (\n",
    "                1.0 if self.agent_profile[\"administrative_state\"] == \"registered\" else 0.0,\n",
    "                self.states[\"healthier\"],\n",
    "                +10\n",
    "            ),\n",
    "            (self.states[\"sick\"], self.actions[\"keep_forward\"]): (1.0, self.states[\"sicker\"], -10),\n",
    "        }\n",
    "        \n",
    "        impossible_actions = [\n",
    "            action for state, action in self.transition_probs\n",
    "            if self.transition_probs[(state, action)][0] == 0.0 and state == self.states[\"sick\"]\n",
    "        ]\n",
    "\n",
    "        self.environment_context = environment_context if environment_context else {\n",
    "            \"shelters_available\": 5,\n",
    "            \"government_healthcare_budget\": 100000,\n",
    "            \"government_social_service_budget\": 50000,\n",
    "            \"grid_position\": (0, 0),  # (x, y) coordinates in the environment\n",
    "            \"deprived capabilities\": impossible_actions\n",
    "        }\n",
    "        \n",
    "        # Current state\n",
    "        self.state = {\"name\": \"sick\", \"index\": self.states[\"sick\"], \"profile\": agent_profile, \"context\": environment_context}\n",
    "        \n",
    "    def step(self, action):\n",
    "        # Handle invalid actions gracefully\n",
    "        state_index = self.state[\"index\"]\n",
    "        if (state_index, action) not in self.transition_probs:\n",
    "            prob, next_state_index, reward = (0.0, state_index, 0)\n",
    "        else:\n",
    "            prob, next_state_index, reward = self.transition_probs[(state_index, action)]\n",
    "        \n",
    "        # State transition based on probability\n",
    "        if np.random.rand() < prob:\n",
    "            next_state_name = [name for name, idx in self.states.items() if idx == next_state_index][0]\n",
    "            self.state[\"name\"] = next_state_name\n",
    "            self.state[\"index\"] = next_state_index\n",
    "\n",
    "            # Update health state according to the new state\n",
    "            if next_state_name == \"healthier\":\n",
    "                self.state[\"profile\"][\"health_state\"] = min(4, self.state[\"profile\"][\"health_state\"] + 1)\n",
    "            elif next_state_name == \"sicker\":\n",
    "                self.state[\"profile\"][\"health_state\"] = max(0, self.state[\"profile\"][\"health_state\"] - 1)\n",
    "        \n",
    "        \n",
    "        # Check if episode is done\n",
    "        done = self.state[\"index\"] in [self.states[\"healthier\"], self.states[\"sicker\"]]\n",
    "        \n",
    "        return self.state, reward, done, {}\n",
    "    \n",
    "    def reset(self, seed=None, options=None):\n",
    "        self.state[\"name\"] = \"sick\"\n",
    "        self.state[\"index\"] = self.states[\"sick\"]\n",
    "        self.state[\"profile\"] = self.agent_profile\n",
    "        self.state[\"context\"] = self.environment_context\n",
    "        return self.state, {}\n",
    "    \n",
    "    def render(self):\n",
    "        print(f\"Current state: {self.state['name']}, Profile: {self.state['profile']}, Context: {self.state['context']}\")\n"
   ]
  }
 ],
 "metadata": {
  "kernelspec": {
   "display_name": "venv",
   "language": "python",
   "name": "python3"
  },
  "language_info": {
   "codemirror_mode": {
    "name": "ipython",
    "version": 3
   },
   "file_extension": ".py",
   "mimetype": "text/x-python",
   "name": "python",
   "nbconvert_exporter": "python",
   "pygments_lexer": "ipython3",
   "version": "3.12.9"
  }
 },
 "nbformat": 4,
 "nbformat_minor": 2
}
